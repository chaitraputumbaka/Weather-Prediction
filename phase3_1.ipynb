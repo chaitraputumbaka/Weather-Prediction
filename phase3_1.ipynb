{
 "cells": [
  {
   "cell_type": "code",
   "execution_count": null,
   "id": "80da1c07",
   "metadata": {},
   "outputs": [],
   "source": [
    "import numpy as np\n",
    "import pandas as pd\n",
    "import matplotlib.pyplot as plt\n",
    "import seaborn as sns\n",
    "from sklearn.impute import SimpleImputer\n",
    "from sklearn.preprocessing import LabelEncoder, MinMaxScaler\n",
    "from sklearn.model_selection import train_test_split\n",
    "from sklearn.linear_model import LogisticRegression\n",
    "from sklearn.ensemble import RandomForestClassifier, GradientBoostingClassifier\n",
    "from sklearn.neighbors import KNeighborsClassifier\n",
    "from sklearn.metrics import accuracy_score, confusion_matrix, roc_curve, auc\n",
    "from sklearn.naive_bayes import BernoulliNB\n",
    "import warnings\n",
    "warnings.filterwarnings(\"ignore\")"
   ]
  },
  {
   "cell_type": "code",
   "execution_count": null,
   "id": "8a1f911a",
   "metadata": {},
   "outputs": [],
   "source": [
    "df = pd.read_csv('weatherAUS.csv')"
   ]
  },
  {
   "cell_type": "code",
   "execution_count": null,
   "id": "dfb0340f",
   "metadata": {},
   "outputs": [],
   "source": [
    "df['Date'] = pd.to_datetime(df['Date'])"
   ]
  },
  {
   "cell_type": "code",
   "execution_count": null,
   "id": "5089987a",
   "metadata": {},
   "outputs": [],
   "source": [
    "df['MinTemp'] = df['MinTemp'].fillna(df['MinTemp'].mean())\n",
    "df['MaxTemp'] = df['MaxTemp'].fillna(df['MaxTemp'].mean())\n",
    "df['Rainfall'] = df['Rainfall'].fillna(df['Rainfall'].mean())\n",
    "df['Evaporation'] = df['Evaporation'].fillna(df['Evaporation'].mean())\n",
    "df['Sunshine'] = df['Sunshine'].fillna(df['Sunshine'].mean())\n",
    "df['WindGustSpeed'] = df['WindGustSpeed'].fillna(df['WindGustSpeed'].mean())\n",
    "df['WindSpeed9am'] = df['WindSpeed9am'].fillna(df['WindSpeed9am'].mean())\n",
    "df['WindSpeed3pm'] = df['WindSpeed3pm'].fillna(df['WindSpeed3pm'].mean())\n",
    "df['Humidity9am'] = df['Humidity9am'].fillna(df['Humidity9am'].mean())\n",
    "df['Humidity3pm'] = df['Humidity3pm'].fillna(df['Humidity3pm'].mean())\n",
    "df['Pressure9am'] = df['Pressure9am'].fillna(df['Pressure9am'].mean())\n",
    "df['Pressure3pm'] = df['Pressure3pm'].fillna(df['Pressure3pm'].mean())\n",
    "df['Cloud9am'] = df['Cloud9am'].fillna(df['Cloud9am'].mean())\n",
    "df['Cloud3pm'] = df['Cloud3pm'].fillna(df['Cloud3pm'].mean())\n"
   ]
  },
  {
   "cell_type": "code",
   "execution_count": null,
   "id": "c1c7fa3e",
   "metadata": {},
   "outputs": [],
   "source": [
    "df['WindGustDir'] = df['WindGustDir'].fillna(df['WindGustDir'].mode()[0])\n",
    "df['WindDir9am'] = df['WindDir9am'].fillna(df['WindDir9am'].mode()[0])\n",
    "df['WindDir3pm'] = df['WindDir3pm'].fillna(df['WindDir3pm'].mode()[0])\n",
    "df['Temp9am'] = df['Temp9am'].fillna(df['Temp9am'].mode()[0])\n",
    "df['Temp3pm'] = df['Temp3pm'].fillna(df['Temp3pm'].mode()[0])\n",
    "df['RainToday'] = df['RainToday'].fillna(df['RainToday'].mode()[0])\n",
    "df['RainTomorrow'] = df['RainTomorrow'].fillna(df['RainTomorrow'].mode()[0])"
   ]
  },
  {
   "cell_type": "code",
   "execution_count": null,
   "id": "ce48bf0d",
   "metadata": {},
   "outputs": [],
   "source": [
    "df.drop_duplicates()"
   ]
  },
  {
   "cell_type": "code",
   "execution_count": null,
   "id": "cbdb3fbf",
   "metadata": {},
   "outputs": [],
   "source": [
    "df['year'] = df['Date'].dt.year\n",
    "df['month'] = df['Date'].dt.month\n",
    "df['day'] = df['Date'].dt.day\n",
    "df[['year','month','day']].head()\n"
   ]
  },
  {
   "cell_type": "code",
   "execution_count": null,
   "id": "ba77b098",
   "metadata": {},
   "outputs": [],
   "source": [
    "df = df.drop(['Date','year'], axis=1)\n"
   ]
  },
  {
   "cell_type": "code",
   "execution_count": null,
   "id": "e0020dde",
   "metadata": {},
   "outputs": [],
   "source": [
    "df1 = df.drop(['Evaporation', 'Sunshine', 'Cloud9am', 'Cloud3pm','WindGustDir','WindGustSpeed','WindDir9am','WindDir3pm','WindSpeed9am','WindSpeed3pm','Humidity9am','Humidity3pm','Pressure9am','Pressure3pm','Temp9am','Temp3pm'], axis = 1)\n",
    "df1.head()\n"
   ]
  },
  {
   "cell_type": "code",
   "execution_count": null,
   "id": "144f894d",
   "metadata": {},
   "outputs": [],
   "source": [
    "encoder = LabelEncoder()\n",
    "df1['Location'] = encoder.fit_transform(df1['Location'])\n",
    "df1['RainToday'] = encoder.fit_transform(df1['RainToday'])\n",
    "df1['RainTomorrow'] = encoder.fit_transform(df1['RainTomorrow'])"
   ]
  },
  {
   "cell_type": "code",
   "execution_count": null,
   "id": "a7cc7ce9",
   "metadata": {},
   "outputs": [],
   "source": [
    "q1, q3 = np.percentile(df1['Rainfall'], (25, 75))\n",
    "iqr = q3 - q1\n",
    "min = q1 - 1.5*iqr\n",
    "max = q3 + 1.5*iqr\n",
    "outliers_indecies = df1[df1['Rainfall'] > max].index.tolist()\n",
    "df1 = df1.drop(outliers_indecies, axis=0)\n",
    "df1.shape"
   ]
  },
  {
   "cell_type": "code",
   "execution_count": null,
   "id": "65c49a3d",
   "metadata": {},
   "outputs": [],
   "source": [
    "from sklearn.preprocessing import MinMaxScaler\n",
    "import numpy as np"
   ]
  },
  {
   "cell_type": "code",
   "execution_count": null,
   "id": "0433b738",
   "metadata": {},
   "outputs": [],
   "source": [
    "df2 = df1.copy()"
   ]
  },
  {
   "cell_type": "code",
   "execution_count": null,
   "id": "659d1a81",
   "metadata": {},
   "outputs": [],
   "source": [
    "\n",
    "column = 'MaxTemp'\n",
    "df2[column] = MinMaxScaler().fit_transform(np.array(df2[column]).reshape(-1,1))"
   ]
  },
  {
   "cell_type": "code",
   "execution_count": null,
   "id": "885c699a",
   "metadata": {},
   "outputs": [],
   "source": [
    "display(df2)"
   ]
  },
  {
   "cell_type": "code",
   "execution_count": null,
   "id": "a8729e6a",
   "metadata": {},
   "outputs": [],
   "source": [
    "x = df2.drop(['RainTomorrow'], axis=1)\n",
    "y = df2['RainTomorrow']\n"
   ]
  },
  {
   "cell_type": "code",
   "execution_count": null,
   "id": "76067963",
   "metadata": {},
   "outputs": [],
   "source": [
    "x_trn,x_tst,y_trn,y_tst = train_test_split(x,y,test_size = 0.2,shuffle = True, random_state = 55)\n",
    "print(x_trn.shape)\n",
    "print(x_tst.shape)\n",
    "print(y_trn.shape)\n",
    "print(y_tst.shape)\n"
   ]
  },
  {
   "cell_type": "code",
   "execution_count": null,
   "id": "61a4506f",
   "metadata": {},
   "outputs": [],
   "source": [
    "clf = GradientBoostingClassifier(n_estimators = 50,learning_rate = 0.5)\n",
    "clf.fit(x_trn,y_trn)"
   ]
  },
  {
   "cell_type": "code",
   "execution_count": null,
   "id": "4b4a8fe3",
   "metadata": {},
   "outputs": [],
   "source": [
    "import pickle\n",
    "pickle.dump(clf, open('model.pkl', 'wb'))"
   ]
  },
  {
   "cell_type": "code",
   "execution_count": null,
   "id": "e3ad4f82",
   "metadata": {},
   "outputs": [],
   "source": [
    "#pip install virtualenv\n"
   ]
  },
  {
   "cell_type": "code",
   "execution_count": null,
   "id": "b5cd6222",
   "metadata": {},
   "outputs": [],
   "source": [
    "pip install -U flask-cors"
   ]
  },
  {
   "cell_type": "code",
   "execution_count": null,
   "id": "810b1dd4",
   "metadata": {},
   "outputs": [],
   "source": [
    "from flask import Flask,render_template,url_for,request,jsonify\n",
    "from flask_cors import cross_origin\n",
    "import pandas as pd\n",
    "import numpy as np\n",
    "import datetime\n",
    "import pickle\n",
    "\n",
    "\n",
    "\n",
    "#app = Flask(_name_)\n",
    "app=Flask(__name__,template_folder='templates')\n",
    "model = pickle.load(open(\"model.pkl\", \"rb\"))\n",
    "print(\"Model Loaded\")\n",
    "\n",
    "@app.route(\"/\",methods=['GET'])\n",
    "@cross_origin()\n",
    "def home():\n",
    "    return render_template(\"predictor1.html\")\n",
    "    \n",
    "@app.route(\"/predict\",methods=['GET', 'POST'])\n",
    "@cross_origin()\n",
    "def predict():\n",
    "    if request.method == \"POST\":\n",
    "            date = request.form['date']\n",
    "            day = float(pd.to_datetime(date, format=\"%Y-%m-%dT\").day)\n",
    "            month = float(pd.to_datetime(date, format=\"%Y-%m-%dT\").month)\n",
    "            minTemp = float(request.form['mintemp'])\n",
    "            maxTemp = float(request.form['maxtemp'])\n",
    "            rainfall = float(request.form['rainfall'])\n",
    "            location = float(request.form['location'])\n",
    "            rainToday = float(request.form['raintoday'])\n",
    "            input_lst = [location , minTemp , maxTemp , rainfall,\n",
    "                     rainToday , month , day]\n",
    "            pred = model.predict(input_lst)\n",
    "            output = pred\n",
    "            if output == 0:\n",
    "                    return render_template(\"after_sunny1.html\")\n",
    "            else:\n",
    "                    return render_template(\"after_rainy1.html\")\n",
    "\n",
    "if __name__=='__main__':\n",
    "   # app.run(debug=True, port=8051)\n",
    "    app.run(debug=True, use_reloader=False)"
   ]
  },
  {
   "cell_type": "code",
   "execution_count": null,
   "id": "8a2f7f37",
   "metadata": {},
   "outputs": [],
   "source": []
  },
  {
   "cell_type": "code",
   "execution_count": null,
   "id": "528e46d3",
   "metadata": {},
   "outputs": [],
   "source": []
  },
  {
   "cell_type": "code",
   "execution_count": null,
   "id": "8a43200d",
   "metadata": {},
   "outputs": [],
   "source": []
  }
 ],
 "metadata": {
  "kernelspec": {
   "display_name": "Python 3 (ipykernel)",
   "language": "python",
   "name": "python3"
  },
  "language_info": {
   "codemirror_mode": {
    "name": "ipython",
    "version": 3
   },
   "file_extension": ".py",
   "mimetype": "text/x-python",
   "name": "python",
   "nbconvert_exporter": "python",
   "pygments_lexer": "ipython3",
   "version": "3.9.12"
  }
 },
 "nbformat": 4,
 "nbformat_minor": 5
}
